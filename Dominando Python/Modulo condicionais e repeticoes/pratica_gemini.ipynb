{
 "cells": [
  {
   "cell_type": "markdown",
   "metadata": {},
   "source": [
    "# Exercício de Estruturas Condicionais em Python\n",
    "\n",
    "*Cenário*: Você está desenvolvendo um sistema simples para ajudar um hospital a categorizar a prioridade de atendimento de pacientes com base em alguns sinais vitais.\n",
    "\n",
    "*Tarefa*: Escreva um programa em Python que receba como entrada a pressão arterial sistólica (PAS) e a frequência cardíaca (FC) de um paciente (em batimentos por minuto). Com base nesses valores, o programa deve imprimir a categoria de prioridade de atendimento, seguindo as seguintes regras simplificadas:\n",
    "\n",
    "Prioridade Alta:\n",
    "- PAS maior ou igual a 180 mmHg ou PAS menor ou igual a 90 mmHg.\n",
    "OU FC maior ou igual a 120 bpm ou FC menor ou igual a 40 bpm.\n",
    "\n",
    "Prioridade Média:\n",
    "- PAS entre 140 e 179 mmHg (inclusive) ou FC entre 100 e 119 bpm (inclusive).\n",
    "\n",
    "Prioridade Baixa:\n",
    "- Se o paciente não se encaixar nas categorias de Prioridade Alta ou Média.\n",
    "\n",
    "Instruções:\n",
    "\n",
    "1. Peça ao usuário para inserir a pressão arterial sistólica (PAS).\n",
    "2. Peça ao usuário para inserir a frequência cardíaca (FC).\n",
    "3. Utilize estruturas condicionais (if, elif, else) para determinar a categoria de prioridade com base nas regras fornecidas.\n",
    "4. Imprima uma mensagem clara indicando a prioridade de atendimento do paciente."
   ]
  },
  {
   "cell_type": "code",
   "execution_count": 2,
   "metadata": {},
   "outputs": [
    {
     "name": "stdout",
     "output_type": "stream",
     "text": [
      "Prioridade Baixa\n"
     ]
    }
   ],
   "source": [
    "pas = int(input(\"Digite a Pressão Arterial Sistólica (PAS): \"))\n",
    "fc = int(input(\"Digite a Frequência Cardíaca do paciente: \")) \n",
    "\n",
    "if pas >= 180 or pas <= 90 or fc >= 120 or fc <= 40:\n",
    "    print(\"Prioridade Alta\")\n",
    "elif (pas >=140 and pas <= 179) or (fc >= 100 and fc <= 119):\n",
    "    print(\"Prioridade Média\")\n",
    "else:\n",
    "    print(\"Prioridade Baixa\")\n"
   ]
  },
  {
   "cell_type": "markdown",
   "metadata": {},
   "source": [
    "***Cenário*** : Um sistema para verificar se um paciente precisa receber uma dose de reforço de uma vacina com base na sua idade e no tempo desde a última dose.\n",
    "\n",
    "***Tarefa***: Escreva um programa em Python que receba como entrada a idade do paciente (em anos) e o número de meses desde que ele recebeu a última dose da vacina. O programa deve imprimir se o paciente precisa ou não receber uma dose de reforço, seguindo as seguintes regras simplificadas:\n",
    "\n",
    "_Precisa de Reforço:_\n",
    "\n",
    "- Se o paciente tiver 60 anos ou mais e tiver passado 6 meses ou mais desde a última dose.\n",
    "OU Se o paciente tiver menos de 60 anos e tiver passado 12 meses ou mais desde a última dose.\n",
    "\n",
    "_Não Precisa de Reforço:_\n",
    "\n",
    "- Em todos os outros casos.\n",
    "\n",
    "Instruções:\n",
    "\n",
    "\n",
    "1. Peça ao usuário para inserir a idade do paciente (em anos).\n",
    "2. Peça ao usuário para inserir o número de meses desde a última dose.\n",
    "3. Utilize estruturas condicionais (if, else) para determinar se o paciente precisa de reforço com base nas regras fornecidas.\n",
    "4. Imprima uma mensagem clara indicando se o paciente precisa ou não da dose de reforço."
   ]
  },
  {
   "cell_type": "code",
   "execution_count": 4,
   "metadata": {},
   "outputs": [
    {
     "name": "stdout",
     "output_type": "stream",
     "text": [
      "Paciente não precisa de reforço! \n"
     ]
    }
   ],
   "source": [
    "idade = int(input(\"Digite a idade do paciente: \"))\n",
    "tempo_ultima = int(input(\"Digite o número de meses desde a última dose: \"))\n",
    "\n",
    "if (idade >= 60 and tempo_ultima >= 6) or (idade <= 60 and tempo_ultima >= 12):\n",
    "    print(\"Paciente precisa da dose de reforço! \")\n",
    "else:\n",
    "    print(\"Paciente não precisa de reforço! \")"
   ]
  },
  {
   "cell_type": "markdown",
   "metadata": {},
   "source": [
    "***Cenário***: Um sistema para determinar se um atleta de natação está qualificado para a próxima fase de uma competição com base no seu tempo e na sua categoria.\n",
    "\n",
    "***Tarefa***: Escreva um programa em Python que receba como entrada o tempo do atleta em segundos e a sua categoria (String: \"Junior\", \"Senior\"). O programa deve imprimir se o atleta está qualificado ou não para a próxima fase, seguindo as seguintes regras simplificadas:\n",
    "\n",
    "##### Qualificado:\n",
    "- Categoria \"Junior\" e tempo menor que 30 segundos.\n",
    "- OU Categoria \"Senior\" e tempo menor que 25 segundos.\n",
    "\n",
    "##### Não Qualificado:\n",
    "- Em todos os outros casos.\n",
    "\n",
    "#### **Instruções**:\n",
    "\n",
    "1. Peça ao usuário para inserir o tempo do atleta em segundos.\n",
    "2. Peça ao usuário para inserir a categoria do atleta (\"Junior\" ou \"Senior\").\n",
    "3. Utilize estruturas condicionais (if, else) para determinar se o atleta está qualificado com base nas regras fornecidas.\n",
    "4. Imprima uma mensagem clara indicando se o atleta está qualificado ou não."
   ]
  },
  {
   "cell_type": "code",
   "execution_count": 8,
   "metadata": {},
   "outputs": [
    {
     "name": "stdout",
     "output_type": "stream",
     "text": [
      "Qualificado! \n"
     ]
    }
   ],
   "source": [
    "tempo = int(input(\"Digite o tempo do atleta (Em segundos): \"))\n",
    "categoria = str(input(\"Digite a categoria do atleta (Junior ou Senior)\"))\n",
    "\n",
    "if (categoria == \"Junior\" and tempo <= 30) or (categoria == \"Senior\"and tempo <= 25):\n",
    "    print(\"Qualificado! \")\n",
    "else:\n",
    "    print(\"Não Qualificado! \")"
   ]
  },
  {
   "cell_type": "code",
   "execution_count": 9,
   "metadata": {},
   "outputs": [
    {
     "name": "stdout",
     "output_type": "stream",
     "text": [
      "Eu gosto de maçã\n",
      "Eu gosto de banana\n",
      "Eu gosto de morango\n"
     ]
    }
   ],
   "source": [
    "frutas = [\"maçã\", \"banana\", \"morango\"]\n",
    "for fruta in frutas:\n",
    "    print(f\"Eu gosto de {fruta}\")"
   ]
  }
 ],
 "metadata": {
  "kernelspec": {
   "display_name": "Python 3",
   "language": "python",
   "name": "python3"
  },
  "language_info": {
   "codemirror_mode": {
    "name": "ipython",
    "version": 3
   },
   "file_extension": ".py",
   "mimetype": "text/x-python",
   "name": "python",
   "nbconvert_exporter": "python",
   "pygments_lexer": "ipython3",
   "version": "3.13.0"
  }
 },
 "nbformat": 4,
 "nbformat_minor": 2
}
