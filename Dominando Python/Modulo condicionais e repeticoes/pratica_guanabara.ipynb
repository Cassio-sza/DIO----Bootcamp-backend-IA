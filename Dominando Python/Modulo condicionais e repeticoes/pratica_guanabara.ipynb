{
 "cells": [
  {
   "cell_type": "markdown",
   "metadata": {},
   "source": [
    "### Exercicios do video 13 e Mundo 2 do Guanabara"
   ]
  },
  {
   "cell_type": "markdown",
   "metadata": {},
   "source": [
    "46. Faça um programa que mostre na tela uma **contagem regressiva** para o estouro de fogos de artificio, indo de ***10 até 0***, com uma pausa de **1 segundo** entre eles."
   ]
  },
  {
   "cell_type": "markdown",
   "metadata": {},
   "source": [
    "47. Crie um programa que mostre **todos os números pares** que estão no intervalo entre 1 e 50."
   ]
  },
  {
   "cell_type": "markdown",
   "metadata": {},
   "source": [
    "48. Faça um programa e calcule a soma entre todos os números pares que são múltiploes de três e que se encontram no intervalo de 1 até 500."
   ]
  },
  {
   "cell_type": "markdown",
   "metadata": {},
   "source": [
    "50. Desenvolva um programa que leia seis números inteiros e mostre a soma apenas daqueles que forem pares. Se o valor digitado for ímpar, desconsidere-o. "
   ]
  },
  {
   "cell_type": "markdown",
   "metadata": {},
   "source": [
    "51. Desenvolva um programa que leia o primeiro termo e a razão de uma Progressão Aritmética. No final, mostre os 10 primeiros termos dessa progressão."
   ]
  },
  {
   "cell_type": "markdown",
   "metadata": {},
   "source": [
    "52. Faça um programa que leia um número inteiro e diga se ele é ou não um número primo"
   ]
  },
  {
   "cell_type": "markdown",
   "metadata": {},
   "source": [
    "53. Crie um programa que leia uma frase qualquer e diga se ela é um palídromo, desconsiderando os espaços."
   ]
  },
  {
   "cell_type": "markdown",
   "metadata": {},
   "source": [
    "54. Crie um programa que leia o ano de nascimento de sete pessoas. No final, mostre quantas pessoas ainda não atingiram a maioridade e quantas já são maiores.\n",
    "- Maioridade 21 anos"
   ]
  },
  {
   "cell_type": "markdown",
   "metadata": {},
   "source": [
    "55. Faça um programa que leia o peso de cinco pessoas. No final, mostre qual foi o maior e o menor peso lidos."
   ]
  },
  {
   "cell_type": "markdown",
   "metadata": {},
   "source": [
    "56. Desenvolva um programa que leia o nome, idade e sexo de 4 pessoas. No final, mostre:\n",
    "- Amédia de idade do grupo\n",
    "- Qual é o nome do homem mais velho"
   ]
  }
 ],
 "metadata": {
  "language_info": {
   "name": "python"
  }
 },
 "nbformat": 4,
 "nbformat_minor": 2
}
