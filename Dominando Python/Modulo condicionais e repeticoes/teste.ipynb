{
 "cells": [
  {
   "cell_type": "code",
   "execution_count": 2,
   "metadata": {},
   "outputs": [
    {
     "name": "stdout",
     "output_type": "stream",
     "text": [
      "Você ainda não tem idade para tirar a Carteira de habilitação!\n"
     ]
    }
   ],
   "source": [
    "maior_idade = 18\n",
    "\n",
    "idade = int(input(\"Digite a sua idade: \"))\n",
    "\n",
    "if idade >= maior_idade:\n",
    "    print(\"Você pode tirar a sua Carteira de Habilitação!\")\n",
    "else:\n",
    "    print(\"Você ainda não tem idade para tirar a Carteira de habilitação!\")"
   ]
  }
 ],
 "metadata": {
  "kernelspec": {
   "display_name": "Python 3",
   "language": "python",
   "name": "python3"
  },
  "language_info": {
   "codemirror_mode": {
    "name": "ipython",
    "version": 3
   },
   "file_extension": ".py",
   "mimetype": "text/x-python",
   "name": "python",
   "nbconvert_exporter": "python",
   "pygments_lexer": "ipython3",
   "version": "3.13.0"
  }
 },
 "nbformat": 4,
 "nbformat_minor": 2
}
