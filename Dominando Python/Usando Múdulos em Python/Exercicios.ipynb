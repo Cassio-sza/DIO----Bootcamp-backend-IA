{
 "cells": [
  {
   "cell_type": "markdown",
   "id": "f4490dae",
   "metadata": {},
   "source": [
    " 016 - Crie um programa que leia um número Real qualquer pelo teclado e mostre na tela a sua porção inteira.\n",
    "\n",
    " Ex: \n",
    " Digite um número: 6.127\n",
    " O número 6.127 tem a parte inteira 6."
   ]
  },
  {
   "cell_type": "code",
   "execution_count": null,
   "id": "9967b9a6",
   "metadata": {},
   "outputs": [
    {
     "name": "stdout",
     "output_type": "stream",
     "text": [
      "O Inteiro do número 5.987 é 6.\n"
     ]
    }
   ],
   "source": [
    "import math\n",
    "\n",
    "num = float(input('Digite um número Real: '))\n",
    "int = math.floor(num)\n",
    "\n",
    "print(f'O Inteiro do número {num} é {int}.')\n"
   ]
  },
  {
   "cell_type": "markdown",
   "id": "a60bb3d9",
   "metadata": {},
   "source": [
    "017 - Faça um programa que leia o comprimento do cateto oposto e do cateto adjacente de um triângulo retângulo. Calcule e mostre o comprimento da hipotenusa."
   ]
  },
  {
   "cell_type": "markdown",
   "id": "c579583e",
   "metadata": {},
   "source": [
    "018 - Faça um programa que leia um ângulo qualquer e mostre na tela o valor do seno, cosseno e tangente desse ângulo."
   ]
  },
  {
   "cell_type": "markdown",
   "id": "492f18e0",
   "metadata": {},
   "source": [
    "019 - Um professor quer sortear um dos seus quatro alunos para apagar o quadro. Faça um programa que ajude ele, lendo o nome deles e escrevendo o nome do escolhido.  "
   ]
  },
  {
   "cell_type": "markdown",
   "id": "bb789475",
   "metadata": {},
   "source": [
    "020 - O mesmo professor do desafio anterior quer sortear a ordem de apresentação de trabalhos dos alunos. Faça um programa que leia o nome dos quatro alunos e mostre a ordem sorteada."
   ]
  },
  {
   "cell_type": "markdown",
   "id": "64209c3c",
   "metadata": {},
   "source": [
    "021 - Faça um programa que abra e reproduza um áudio de um arquivo MP3."
   ]
  }
 ],
 "metadata": {
  "kernelspec": {
   "display_name": "Python 3",
   "language": "python",
   "name": "python3"
  },
  "language_info": {
   "codemirror_mode": {
    "name": "ipython",
    "version": 3
   },
   "file_extension": ".py",
   "mimetype": "text/x-python",
   "name": "python",
   "nbconvert_exporter": "python",
   "pygments_lexer": "ipython3",
   "version": "3.12.10"
  }
 },
 "nbformat": 4,
 "nbformat_minor": 5
}
