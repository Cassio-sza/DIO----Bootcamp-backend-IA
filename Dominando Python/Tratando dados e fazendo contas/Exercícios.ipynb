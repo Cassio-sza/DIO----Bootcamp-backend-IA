{
 "cells": [
  {
   "cell_type": "markdown",
   "id": "a2493745",
   "metadata": {},
   "source": [
    "003 - crie um programa que leia dois números e mostre a soma entre eles."
   ]
  },
  {
   "cell_type": "code",
   "execution_count": null,
   "id": "0b17906a",
   "metadata": {},
   "outputs": [],
   "source": [
    "soma = 5 + 3\n",
    "print(soma)"
   ]
  },
  {
   "cell_type": "markdown",
   "id": "7e11d472",
   "metadata": {},
   "source": [
    "004 - Faça um programa que leia algo pelo teclado e mostre na tela o seu tipo primitivo e todas as informações possíveis sobre ela.\n"
   ]
  },
  {
   "cell_type": "code",
   "execution_count": null,
   "id": "06bae8a0",
   "metadata": {},
   "outputs": [],
   "source": [
    "digitado = input('Digite algo: ')\n",
    "print(digitado.isalpha())\n",
    "print(digitado.isalnum())\n",
    "print(digitado.isdecimal())\n",
    "print(digitado.isupper())\n",
    "print(digitado.isnumeric())"
   ]
  },
  {
   "cell_type": "markdown",
   "id": "0e97afc9",
   "metadata": {},
   "source": [
    "0005 - Faça um programa que leia um número Inteiro e mostre o seu sucessor e seu antecessor."
   ]
  },
  {
   "cell_type": "code",
   "execution_count": null,
   "id": "d94ad8ad",
   "metadata": {},
   "outputs": [],
   "source": [
    "inteiro = int(input('Digite um número inteiro: '))\n",
    "sucessor = inteiro + 1\n",
    "antecessor = inteiro - 1\n",
    "\n",
    "print(f'O número escolhido foi {inteiro}. Seu sucessor é {sucessor} e seu antecessor é {antecessor}')"
   ]
  },
  {
   "cell_type": "markdown",
   "id": "3beed4d7",
   "metadata": {},
   "source": [
    "006 - Crie um algoritmo que leia um número e mostre o seu dobro, triplo e raiz quadrada."
   ]
  },
  {
   "cell_type": "code",
   "execution_count": null,
   "id": "7aab9e2c",
   "metadata": {},
   "outputs": [],
   "source": [
    "#Importar biblioteca math\n",
    "import math\n",
    "\n",
    "num = int(input('Digite um número: '))\n",
    "dobro = num * 2\n",
    "triplo = num * 3\n",
    "raiz_quadrada = math.sqrt(num)\n",
    "\n",
    "print(f'O número escolhido foi {num} \\n Seu dobro é {dobro}. \\n Seu triplo é {triplo}. \\n Sua raiz quadrada é {raiz_quadrada}')"
   ]
  },
  {
   "cell_type": "markdown",
   "id": "91ee1d24",
   "metadata": {},
   "source": [
    "007 - Desensolva um programa que leia as duas notas de um aluno, calcule e mostre a sua média"
   ]
  },
  {
   "cell_type": "code",
   "execution_count": null,
   "id": "1ff91a31",
   "metadata": {},
   "outputs": [],
   "source": [
    "nota1 = float(input('Digite a primeira nota do aluno: '))\n",
    "nota2 = float(input('Digite a segunda nota do aluno: '))\n",
    "\n",
    "media = (nota1 + nota2) / 2\n",
    "\n",
    "print(f'A média final do aluno é: {media} ')"
   ]
  },
  {
   "cell_type": "markdown",
   "id": "5ebace79",
   "metadata": {},
   "source": [
    "008 - Escreva um programa que leia um valor em metros e o exiba convertido em centímetros e milímetros."
   ]
  },
  {
   "cell_type": "code",
   "execution_count": null,
   "id": "661424ac",
   "metadata": {},
   "outputs": [],
   "source": [
    "metros = float(input('Digite o tamanho em metros: '))\n",
    "cent = metros * 100\n",
    "milim = metros * 1000\n",
    "\n",
    "print(f'{metros} metros equivalem a {cent} centímetros e {milim} milímetros.')"
   ]
  },
  {
   "cell_type": "markdown",
   "id": "fc8509dd",
   "metadata": {},
   "source": [
    "009 - Faça um programa que leia um número inteiro qualquer e mostre na tela a sua tabuada."
   ]
  },
  {
   "cell_type": "code",
   "execution_count": null,
   "id": "f1f32427",
   "metadata": {},
   "outputs": [],
   "source": [
    "num = int(input('Digite um número inteiro: '))\n",
    "\n",
    "for i in range(1,11):\n",
    "    print(f'{num} x {i} = {num * i}')\n",
    "          "
   ]
  },
  {
   "cell_type": "markdown",
   "metadata": {},
   "source": [
    "010 - Crie um programa que leia quanto dinheiro uma pessoa tem na carteira e mostre quantos Dólares ela pode comprar.\n",
    "\n",
    "    Considere:\n",
    "    USS1,00 = R$3,27"
   ]
  },
  {
   "cell_type": "code",
   "execution_count": 13,
   "id": "77d9c369",
   "metadata": {},
   "outputs": [
    {
     "name": "stdout",
     "output_type": "stream",
     "text": [
      "Você consegue comprar US$61.16 dólares!\n"
     ]
    }
   ],
   "source": [
    "carteira = float(input('Digite a quantia em dinheiro: '))\n",
    "dolar = 3.27\n",
    "\n",
    "print(f'Você consegue comprar US${carteira / dolar:.2f} dólares!')"
   ]
  },
  {
   "cell_type": "markdown",
   "id": "c3c03fbf",
   "metadata": {},
   "source": [
    " 011 - Faça um programa que leia a largura de uma parede em metros, calcule a sua área e a quantidade de tinta necessária para pintá-la, sabendo que cada litro de tinta pinta uma área de 2m²."
   ]
  },
  {
   "cell_type": "code",
   "execution_count": null,
   "id": "e79ccaf8",
   "metadata": {},
   "outputs": [],
   "source": [
    "largura = float(input('Digite a largura da parede: '))\n",
    "altura = float(input('Digite a altura da parede: '))\n",
    "area = largura * altura\n",
    "rendimento = area / 2\n",
    "\n",
    "print(f'Sua parede tem {area:.2f}m².\\nSerão necessários {rendimento:.2f} litros de tinta para pintá-la! ')"
   ]
  },
  {
   "cell_type": "markdown",
   "id": "84ad9986",
   "metadata": {},
   "source": [
    "012 - Faça um algoritmo que leia o preço de um produto e mostre o seu novo preço com 5% de desconto"
   ]
  },
  {
   "cell_type": "code",
   "execution_count": null,
   "id": "98c3e7b8",
   "metadata": {},
   "outputs": [
    {
     "name": "stdout",
     "output_type": "stream",
     "text": [
      "4.75\n"
     ]
    }
   ],
   "source": [
    "preco = float(input('Digite o preço do produto: '))\n",
    "novo_preco = preco - (preco * 0.05)\n",
    "\n",
    "print(f'Novo preço: R${novo_preco:.2f}.')"
   ]
  },
  {
   "cell_type": "markdown",
   "id": "819ceb81",
   "metadata": {},
   "source": [
    "013 - Faça um algoritmo que leia o salário de uma funcionária e mostre o se novo salário, com 15% de aumento."
   ]
  },
  {
   "cell_type": "code",
   "execution_count": null,
   "id": "5c2c211c",
   "metadata": {},
   "outputs": [],
   "source": [
    "salario = float(input('Digite o salário do funcionário: '))\n",
    "aumento = salario * 0.15\n",
    "novo_salario = salario + aumento\n",
    "\n",
    "print(f'O novo salário com o aumento de R${aumento:.2f} reais é: R${novo_salario:.2f} reais.')"
   ]
  },
  {
   "cell_type": "markdown",
   "id": "35c6c091",
   "metadata": {},
   "source": [
    "**Exercício bônus do Gemini** \n",
    "\n",
    "Exercício Proposto: Calculadora de Preço de Combustível com Bônus/Desconto\n",
    "Enunciado:\n",
    "\n",
    "Desenvolva um programa em Python que ajude um motorista a calcular o custo total de abastecimento. O programa deverá:\n",
    "\n",
    "- Perguntar ao usuário o preço do litro da gasolina (em R$).\n",
    "- Perguntar ao usuário quantos litros de gasolina ele deseja abastecer.\n",
    "- Calcular o valor total que o motorista pagaria inicialmente.\n",
    "\n",
    "Considere que, se o motorista abastecer mais de 40 litros, ele recebe um desconto de 3% sobre o valor total. Caso contrário (40 litros ou menos), ele ganha um bônus de 2% sobre o valor total para usar em uma futura compra na loja de conveniência (esse bônus não diminui o valor a pagar, apenas informa o valor do bônus).\n",
    "\n",
    "Ao final, o programa deve informar:\n",
    "- O preço do litro da gasolina informado.\n",
    "- A quantidade de litros abastecida.\n",
    "- O valor total a pagar (já com o desconto, se aplicável).\n",
    "- Se aplicável, o valor do desconto concedido.\n",
    "- Se aplicável, o valor do bônus para a loja de conveniência.\n",
    "\n",
    "Dicas para o desenvolvimento:\n",
    "\n",
    "- Pense nas suas entradas (float é seu amigo aqui!).\n",
    "- Você precisará de uma estrutura condicional (um if e else ou if/elif/else) para verificar a quantidade de litros e aplicar a regra de desconto/bônus.\n",
    "- Lembre-se da formatação para duas casas decimais para valores monetários.\n",
    "- Seja claro nas mensagens de saída!"
   ]
  },
  {
   "cell_type": "code",
   "execution_count": null,
   "id": "01527b9a",
   "metadata": {},
   "outputs": [
    {
     "name": "stdout",
     "output_type": "stream",
     "text": [
      "O valor da gasolina é: R$3.69\n",
      "Você abasteceu 41.0 litros.\n",
      "Você ganhou um desconto de 3% no valor de 4.54, é o valor a pagar ficou R$146.75.\n",
      "Obrigado pela preferência e volte sempre!\n"
     ]
    }
   ],
   "source": [
    "preco = float(input('Digite o preço da gasolina: R$'))\n",
    "abastecer = float(input('Quantos litros deseja abastecer? '))\n",
    "valor = preco * abastecer\n",
    "\n",
    "desconto = valor * 0.03\n",
    "bonus = valor * 0.02\n",
    "\n",
    "print(f'O valor da gasolina é: R${preco}')\n",
    "print(f'Você abasteceu {abastecer} litros.')\n",
    "\n",
    "if abastecer >= 40:\n",
    "    valor -= desconto\n",
    "    print(f'Você ganhou um desconto de 3% no valor de R${desconto:.2f}, é o valor a pagar ficou R${valor:.2f}.\\nObrigado pela preferência e volte sempre!')\n",
    "else:\n",
    "    print(f'O valor a pagar é de R${valor:.2f}.')\n",
    "    print(f'Você ganhou um bônus no valor de R${bonus:.2f} reais para usar na loja de conveniência.\\nObrigado pela preferência e volte sempre!')"
   ]
  }
 ],
 "metadata": {
  "kernelspec": {
   "display_name": "Python 3",
   "language": "python",
   "name": "python3"
  },
  "language_info": {
   "codemirror_mode": {
    "name": "ipython",
    "version": 3
   },
   "file_extension": ".py",
   "mimetype": "text/x-python",
   "name": "python",
   "nbconvert_exporter": "python",
   "pygments_lexer": "ipython3",
   "version": "3.12.10"
  }
 },
 "nbformat": 4,
 "nbformat_minor": 5
}
