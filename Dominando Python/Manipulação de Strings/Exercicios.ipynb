{
 "cells": [
  {
   "cell_type": "markdown",
   "metadata": {},
   "source": [
    "**Exercício de formatação com f-strings**\n",
    "\n",
    "Crie um programa que:\n",
    "\n",
    "1. Peça ao usuário que insira:\n",
    "\n",
    "- Seu nome.\n",
    "- Um valor de ponto flutuante (pode representar um preço).\n",
    "- Um número inteiro (pode representar uma quantidade).\n",
    "- Um número inteiro que represente o desconto diretamente em porcentagem (exemplo: 15 para 15%).\n",
    "\n",
    "2. Exiba as seguintes informações formatadas:\n",
    "\n",
    "- O nome alinhado à esquerda em um espaço de 15 caracteres.\n",
    "- O preço formatado com 2 casas decimais e separadores de milhar.\n",
    "- A quantidade formatada com 3 dígitos, preenchida com zeros à esquerda.\n",
    "- O desconto como porcentagem com o símbolo %.\n",
    "- O preço final calculado após o desconto, também com 2 casas decimais."
   ]
  },
  {
   "cell_type": "code",
   "execution_count": null,
   "metadata": {},
   "outputs": [
    {
     "name": "stdout",
     "output_type": "stream",
     "text": [
      "O seu nome é: cassio         \n",
      "O valor do item é: 1,500.00\n",
      "A quantidade de itens é: 003\n",
      "O desconto é de 20%\n",
      "O valor final dos itens com os descontos é de: 3600.0\n"
     ]
    }
   ],
   "source": [
    "#1\n",
    "\n",
    "nome = input(\"Digite o seu nome: \")\n",
    "valor = float(input(\"Qual o valor do item? \"))\n",
    "quantidade = int(input('Qual a quantidade? '))\n",
    "desconto = int(input(\"Qual o desconto? \"))\n",
    "\n",
    "final = (valor * quantidade) * (1 - desconto / 100)\n",
    "\n",
    "#2\n",
    "\n",
    "print(f\"O nome do cliente é: {nome:<15}\")\n",
    "print(f'O valor do item é: {valor:,.2f}')\n",
    "print(f'A quantidade de itens é: {quantidade:03}')\n",
    "print(f'O desconto é de {desconto}%.')\n",
    "print(f'O valor final dos itens com os descontos é de: {final}')\n",
    "\n",
    "\n",
    "\n"
   ]
  }
 ],
 "metadata": {
  "kernelspec": {
   "display_name": "Python 3",
   "language": "python",
   "name": "python3"
  },
  "language_info": {
   "codemirror_mode": {
    "name": "ipython",
    "version": 3
   },
   "file_extension": ".py",
   "mimetype": "text/x-python",
   "name": "python",
   "nbconvert_exporter": "python",
   "pygments_lexer": "ipython3",
   "version": "3.13.0"
  }
 },
 "nbformat": 4,
 "nbformat_minor": 2
}
