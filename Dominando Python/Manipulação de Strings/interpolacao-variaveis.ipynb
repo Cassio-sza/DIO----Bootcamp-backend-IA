{
 "cells": [
  {
   "cell_type": "markdown",
   "metadata": {},
   "source": [
    "## Interpolação de Strings\n",
    "\n",
    "Sempre que quisermos inserir valores de uma variável dentro de expressões de strings, poderemos faze-lo de dierentes formas:\n",
    "\n",
    "1. **Concatenar com +:** Acrescentar o sinal de +, fazendo o interpretador \"somar\" de forma manual, porém menos eficiente e legível."
   ]
  },
  {
   "cell_type": "code",
   "execution_count": null,
   "metadata": {},
   "outputs": [],
   "source": [
    "nome = \"Cássio\"   \n",
    "mensagem = \"Olá, \" + nome + \"!\"\n",
    "print(mensagem)"
   ]
  },
  {
   "cell_type": "markdown",
   "metadata": {},
   "source": [
    "2. **Método .format():** Usaremos as {} para definir onde na expressão ficará o valor da variável a ser substituído e informá-lo ao final da expressão dentro dos ().  "
   ]
  },
  {
   "cell_type": "code",
   "execution_count": null,
   "metadata": {},
   "outputs": [],
   "source": [
    "nome = \"Cássio\"\n",
    "mensagem = \"Olá, {}!\".format(nome)\n",
    "print(mensagem)"
   ]
  },
  {
   "cell_type": "markdown",
   "metadata": {},
   "source": [
    "3. **Com f-string:** Permite incluir a expressão diretamente na string com a inclusão da letra **f** antes da mensagem \" \":\n"
   ]
  },
  {
   "cell_type": "code",
   "execution_count": null,
   "metadata": {},
   "outputs": [],
   "source": [
    "nome = \"Cássio\"\n",
    "idade = 31\n",
    "mensagem = f\"Olá, {nome}, você tem {idade} anos!\"\n",
    "print(mensagem)"
   ]
  },
  {
   "cell_type": "markdown",
   "metadata": {},
   "source": [
    "4. **Percentual % :** (Não é mais usada): Substitui valores usando o operador de formatação % \n",
    "- Usaremos `%s` para Strings\n",
    "- Usaremos `%d` para Inteiros\n",
    "- Usaremos `%f` para Float"
   ]
  },
  {
   "cell_type": "code",
   "execution_count": null,
   "metadata": {},
   "outputs": [],
   "source": [
    "nome = \"Cássio\"\n",
    "idade = 31\n",
    "mensagem = \"Olá, %s, você tem %d anos!\" % (nome, idade)\n",
    "print(mensagem)"
   ]
  },
  {
   "cell_type": "markdown",
   "metadata": {},
   "source": [
    "Embora a maioria das opções de formatação acima possam ser usadas, pela facilidade de uso, pela legibilidade do código e pela sua manuteção no futuro, usaremos mais a forma f-string na maioria dos casos."
   ]
  },
  {
   "cell_type": "markdown",
   "metadata": {},
   "source": [
    "### Formatando uma f-string\n",
    "\n",
    "Usando a forma f-string, teremos ainda a opção de formatar as informações do output utilizando expressões de formatação como especificadores de largura, casas decimais, preenchimento, alinhamento e até mesmo conversões para estilos específicos (como porcentagens, datas, etc.).\n",
    "\n",
    "A formatação é feita dentro de `{}` após o valor ou expressão, usando o caractere `:` seguido de instruções de formatação"
   ]
  },
  {
   "cell_type": "code",
   "execution_count": null,
   "metadata": {},
   "outputs": [
    {
     "name": "stdout",
     "output_type": "stream",
     "text": [
      "O número de PI é 3.1\n"
     ]
    }
   ],
   "source": [
    "PI = 3.14159\n",
    "print(f\"O número de PI é {PI:.2f}\")  #Apenas 2 casas decimais serão exibidas"
   ]
  }
 ],
 "metadata": {
  "kernelspec": {
   "display_name": "Python 3",
   "language": "python",
   "name": "python3"
  },
  "language_info": {
   "codemirror_mode": {
    "name": "ipython",
    "version": 3
   },
   "file_extension": ".py",
   "mimetype": "text/x-python",
   "name": "python",
   "nbconvert_exporter": "python",
   "pygments_lexer": "ipython3",
   "version": "3.13.0"
  }
 },
 "nbformat": 4,
 "nbformat_minor": 2
}
