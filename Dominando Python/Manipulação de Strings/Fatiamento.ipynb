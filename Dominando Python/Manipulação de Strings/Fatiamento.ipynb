{
 "cells": [
  {
   "cell_type": "markdown",
   "metadata": {},
   "source": [
    "## Fatiamento\n",
    "\n",
    "Consiste em uma técnica para acessar partes especificas de uma string, extraindo subconjuntos de caracteres. Para isso, usaremos índices (número que indica a posição da letra dentro da string) dentro de colchetes `[]` para indicar os 'limites' do ffatiamento:\n",
    "\n",
    "`string[inicio:meio:fim]`\n",
    "\n",
    "onde,\n",
    "\n",
    "`início`: Índice do primeiro caractere incluído no fatiamento (opcional; padrão é `0`).\n",
    "\n",
    "`fim`: Índice onde o fatiamento termina (não incluído no resultado, opcional; padrão é o comprimento da string).\n",
    "\n",
    "`passo`: Intervalo entre os caracteres a serem selecionados (opcional; padrão é `1`)."
   ]
  },
  {
   "cell_type": "markdown",
   "metadata": {},
   "source": [
    "### Na prática "
   ]
  },
  {
   "cell_type": "markdown",
   "metadata": {},
   "source": [
    "1. Se a string vier acompanhada de apenas `um` Índice entre colchetes, significa que apenas a letra correnpondente aquele índice será exibido:\n"
   ]
  },
  {
   "cell_type": "code",
   "execution_count": null,
   "metadata": {},
   "outputs": [],
   "source": [
    "texto = \"Python é incrível\"\n",
    "print(texto[5])"
   ]
  },
  {
   "cell_type": "markdown",
   "metadata": {},
   "source": [
    "2. Se a string vier acompanhada de `dois` números separados por `:`, o interpretador entenderá que o primeiro número é o inicio do fatiamento e último onde ele deverá encerrar o corte: \n",
    "   \n",
    "    **Obs**: O valor/letra indicado sera usado como reerencia de corte e não será exibido. Ou seja, o anterior aparecerá no output e ele ficará de fora."
   ]
  },
  {
   "cell_type": "code",
   "execution_count": null,
   "metadata": {},
   "outputs": [],
   "source": [
    "texto = \"Python é incrível\"\n",
    "\n",
    "    # A sexta letra  no texto e o espaço entre o \"n\" e o \"é\", logo o seu anterior será o ultimo a ser exibido no corte.\n",
    "print(texto[0:6])"
   ]
  },
  {
   "cell_type": "markdown",
   "metadata": {},
   "source": [
    "3. No caso de `3` índices, o interpretador entenderá o ultimo número como o número de pulos que ele fará para selecionar as letras a serem exibidas "
   ]
  },
  {
   "cell_type": "code",
   "execution_count": null,
   "metadata": {},
   "outputs": [],
   "source": [
    "texto = \"Python é incrível\"\n",
    "\n",
    "    #Nesse caso, ele exibirá a palavra \"incrível\" sempre saltando 2 letras.\n",
    "print(texto[9:16:2])"
   ]
  },
  {
   "cell_type": "markdown",
   "metadata": {},
   "source": [
    "#### **Atenção**\n",
    "\n",
    "Em caso de `omissão`de índices de inicio e final, ele interpretará q é pra ser exibido desde o primeiro caractere, ou ate o ultimo caractere, respectivamente."
   ]
  },
  {
   "cell_type": "code",
   "execution_count": null,
   "metadata": {},
   "outputs": [],
   "source": [
    "texto = \"Python é incrível\"\n",
    "\n",
    "    # Ele exibirá do inicio até o sexto caractere.\n",
    "print(texto[:6])\n",
    "\n",
    "    # Ele exibirá do 9° caractere até o final.\n",
    "print(texto[9:])\n",
    "\n",
    "    # Ele exibirá todo o texto, saltando sempre de três em três caracteres.\n",
    "print(texto[::3]) "
   ]
  },
  {
   "cell_type": "markdown",
   "metadata": {},
   "source": [
    "### Exemplos\n"
   ]
  },
  {
   "cell_type": "markdown",
   "metadata": {},
   "source": [
    "1. Com indices básicos:"
   ]
  },
  {
   "cell_type": "code",
   "execution_count": null,
   "metadata": {},
   "outputs": [],
   "source": [
    "texto = \"Python é incrível\"\n",
    "\n",
    "# Acessar os primeiros 6 caracteres\n",
    "print(texto[0:6])  \n",
    "\n",
    "# Acessar os caracteres do índice 7 ao final\n",
    "print(texto[7:])  \n",
    "\n",
    "# Acessar os primeiros 6 caracteres com omissão do índice inicial\n",
    "print(texto[:6])  "
   ]
  },
  {
   "cell_type": "markdown",
   "metadata": {},
   "source": [
    "2. Com índices negativos: \n",
    "\n",
    "    Em Python, índices negativos percorrem a string de trás pra frente."
   ]
  },
  {
   "cell_type": "code",
   "execution_count": null,
   "metadata": {},
   "outputs": [],
   "source": [
    "texto = \"Python é incrível\"\n",
    "\n",
    "# Último caractere da string\n",
    "print(texto[-1])  \n",
    "\n",
    "# Os últimos 8 caracteres\n",
    "print(texto[-8:])  \n",
    "\n",
    "# Todos os caracteres menos os últimos 8\n",
    "print(texto[:-8]) \n"
   ]
  },
  {
   "cell_type": "markdown",
   "metadata": {},
   "source": [
    "3. Usando o passo:"
   ]
  },
  {
   "cell_type": "code",
   "execution_count": null,
   "metadata": {},
   "outputs": [],
   "source": [
    "texto = \"Python é incrível\"\n",
    "\n",
    "# Pular caracteres (passo = 2)\n",
    "print(texto[::2])  \n",
    "\n",
    "# Reverter a string\n",
    "print(texto[::-1])  \n",
    "\n",
    "# Extrair caracteres em posições alternadas\n",
    "print(texto[0:10:2])  \n"
   ]
  }
 ],
 "metadata": {
  "kernelspec": {
   "display_name": "Python 3",
   "language": "python",
   "name": "python3"
  },
  "language_info": {
   "codemirror_mode": {
    "name": "ipython",
    "version": 3
   },
   "file_extension": ".py",
   "mimetype": "text/x-python",
   "name": "python",
   "nbconvert_exporter": "python",
   "pygments_lexer": "ipython3",
   "version": "3.13.0"
  }
 },
 "nbformat": 4,
 "nbformat_minor": 2
}
