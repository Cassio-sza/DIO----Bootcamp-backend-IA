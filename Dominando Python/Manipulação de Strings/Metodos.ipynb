{
 "cells": [
  {
   "cell_type": "markdown",
   "metadata": {},
   "source": [
    "## Manipulação de Strings\n",
    "\n",
    "Em python, muitas vezes precisamos manipular textos de alguma forma, seja para exibir mensagens ao usuário, manipular dados textuais, processar arquivos ou interagir com APIs. Strings é uma classe rica em métodos e fácil de trabalhar.\n",
    "\n",
    "### Utilidade\n",
    "\n",
    "1. **Formatação de Mensagens**\n",
    "    \n",
    "    Criar textos personalizados para apresentar ao usuário.\n",
    "    \n",
    "2.  **Validação de Entrada**\n",
    "\n",
    "    Verificar se uma entrada é válida. (e.g, email, CPF)\n",
    "\n",
    "3.  **Processamento de arquivos**\n",
    "\n",
    "    Manipular dados de arquivos como logs, CSV ou JSON.\n",
    "\n",
    "4.  **Busca e substituição**\n",
    "\n",
    "    Encontrar e modificar partes de um texto\n",
    "\n",
    "5.  **Preparação de dados**\n",
    "\n",
    "    Limpeza de dados em aplicaçoes como análise de dados ou aprendizado de máquina.\n",
    "\n",
    "6.  **Interação com APIs**\n",
    "\n",
    "    Manipular respostas em formato JSON ou XML."
   ]
  },
  {
   "cell_type": "markdown",
   "metadata": {},
   "source": [
    "## Métodos\n",
    "\n",
    "São funções pertencentes a um objeto e podem ser chamadas para realizar ações ou manipular os dados desse objeto. No caso das strings, os metodos são usados para transformar, consultar ou processar o texto:\n",
    "\n",
    "Eles podem ser chamados usando a sintaxe:\n",
    "\n",
    "`objeto.metodo(argumentos)`\n",
    "\n",
    "No contexto das strings, os métodos facilitam tarefas comuns, como:\n",
    "\n",
    "1. **Transformar o texto:** Métodos como .upper() ou .lower() alteram oo conteúdo da string.\n",
    "\n",
    "\n"
   ]
  },
  {
   "cell_type": "code",
   "execution_count": null,
   "metadata": {},
   "outputs": [],
   "source": [
    "texto = \"python\"\n",
    "print(texto.upper())\n",
    "print(texto.le)"
   ]
  },
  {
   "cell_type": "code",
   "execution_count": null,
   "metadata": {},
   "outputs": [],
   "source": [
    "texto = \"VivO\"\n",
    "print(texto.lower())"
   ]
  },
  {
   "cell_type": "markdown",
   "metadata": {},
   "source": [
    "2. **Procurar ou verificar valores:** Métodos como .find() ou .startswith() ajudam a buscar ou validar partes da string: "
   ]
  },
  {
   "cell_type": "code",
   "execution_count": null,
   "metadata": {},
   "outputs": [],
   "source": [
    "texto = \"Bootcamp\"\n",
    "print(texto.find(\"camp\"))"
   ]
  },
  {
   "cell_type": "code",
   "execution_count": null,
   "metadata": {},
   "outputs": [],
   "source": [
    "\n",
    "texto = \"Bootcamp\"\n",
    "print(texto.startswith(\"Boot\"))"
   ]
  },
  {
   "cell_type": "markdown",
   "metadata": {},
   "source": [
    "3. **Alterar o formato:** Métodos como . strip(), .replace() ou .join() são úteis para remover espaços, substituir trechos ou montar novas strings."
   ]
  },
  {
   "cell_type": "code",
   "execution_count": null,
   "metadata": {},
   "outputs": [],
   "source": [
    "#Retira os espaços do começo e do final\n",
    "\n",
    "texto = \" Pyth on \"\n",
    "print(texto.strip())"
   ]
  },
  {
   "cell_type": "code",
   "execution_count": null,
   "metadata": {},
   "outputs": [],
   "source": [
    "# Troca uma palavra por outra\n",
    "\n",
    "texto = \" Bootcamp Back And Vivo\"\n",
    "print(texto.replace(\"And\", \"End\"))  # Dentro de replace temos (valorAntigo, novoValor)"
   ]
  },
  {
   "cell_type": "code",
   "execution_count": null,
   "metadata": {},
   "outputs": [
    {
     "name": "stdout",
     "output_type": "stream",
     "text": [
      "Maria Pandora Amanda\n"
     ]
    }
   ],
   "source": [
    "# Usado para concatenar elementos de uma sequência em uma única string, usando um separador que é pré definido \n",
    "\n",
    "nomes = [\"Maria\", \"Pandora\", \"Amanda\"]\n",
    "\n",
    "casa = \" \".join(nomes)          # Aqui definimos uma nova variavel (casa) para armazenar. Definimos o separador(\" \") e falamos de qual sequencia será a concatenaçao \n",
    "\n",
    "print(casa)         \n"
   ]
  }
 ],
 "metadata": {
  "kernelspec": {
   "display_name": "Python 3",
   "language": "python",
   "name": "python3"
  },
  "language_info": {
   "codemirror_mode": {
    "name": "ipython",
    "version": 3
   },
   "file_extension": ".py",
   "mimetype": "text/x-python",
   "name": "python",
   "nbconvert_exporter": "python",
   "pygments_lexer": "ipython3",
   "version": "3.13.0"
  }
 },
 "nbformat": 4,
 "nbformat_minor": 2
}
